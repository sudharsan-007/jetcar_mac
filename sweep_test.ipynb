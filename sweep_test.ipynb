{
 "cells": [
  {
   "cell_type": "code",
   "execution_count": 6,
   "metadata": {},
   "outputs": [],
   "source": [
    "import pandas as pd\n",
    "import matplotlib.pyplot as plt\n",
    "import numpy as np\n",
    "import os \n",
    "import torch\n",
    "import cv2 \n",
    "import torchvision.transforms as T\n",
    "from torch.utils.data import Dataset, DataLoader\n",
    "import torchvision\n",
    "import wandb\n",
    "from time import time\n",
    "\n",
    "import torch.nn as nn\n",
    "import torch.optim as optim\n",
    "import torch.nn.functional as F \n",
    "\n",
    "from Trainer import train_model\n",
    "from Dataloader import JetcarDataset, SimulatorDataset \n",
    "from Models import NetworkNvidia, ResNet18, ResNet34, AlexNet, VGG16"
   ]
  },
  {
   "cell_type": "code",
   "execution_count": 4,
   "metadata": {},
   "outputs": [],
   "source": [
    "transforms = torch.nn.Sequential(\n",
    "    T.RandomResizedCrop(size=(224, 224),scale=(0.9,1)),\n",
    "    T.GaussianBlur(kernel_size=(5, 9), sigma=(0.1, 4)),\n",
    "    T.ColorJitter(brightness=.3, hue=.3, saturation=.3),\n",
    "    #T.Normalize((0.5, 0.5, 0.5), (0.5, 0.5, 0.5)),\n",
    ") "
   ]
  },
  {
   "cell_type": "code",
   "execution_count": 5,
   "metadata": {},
   "outputs": [],
   "source": [
    "realData = JetcarDataset(\"data_mix/data.csv\", \"data_mix/img/\", transform=transforms)"
   ]
  },
  {
   "cell_type": "code",
   "execution_count": null,
   "metadata": {},
   "outputs": [],
   "source": [
    "sweep_config = {\n",
    "    'method': 'random', \n",
    "    'metrics':{'name':'loss','goal':'minimize'}\n",
    "    }\n",
    "\n",
    "parameters_dict = {\n",
    "    'epochs':{'value':100},\n",
    "    'optimizer': {'values': ['sgd','adam']}, \n",
    "    'scheduler': {'values': [True, False]},\n",
    "    'batch_size':{'values':[8, 16, 32, 64]},\n",
    "    'learning_rate': {'values': [0.1, 0.05, 0.001, 0.0005]}, # 4 combinations\n",
    "    'model':{'values': ['Nvidia', 'ResNet18', 'ResNet34', 'AlexNet', 'Vgg16']},\n",
    "    'loss':{'values': ['MSE', 'L1']}\n",
    "    }\n",
    "\n",
    "sweep_config['parameters'] = parameters_dict\n",
    "\n",
    "print(sweep_config)"
   ]
  },
  {
   "cell_type": "code",
   "execution_count": 1,
   "metadata": {},
   "outputs": [],
   "source": [
    "def build_optimizer(network, optimizer, learning_rate):\n",
    "    if optimizer == \"sgd\":\n",
    "        optimizer = optim.SGD(network.parameters(), lr=learning_rate, momentum=0.9)\n",
    "    elif optimizer == \"adam\":\n",
    "        optimizer = optim.Adam(network.parameters(), lr=learning_rate)\n",
    "    elif optimizer == \"adamax\":\n",
    "        optimizer = optim.Adamax(network.parameters(), lr=learning_rate, betas=(0.9, 0.999), eps=1e-08, weight_decay=0)\n",
    "    elif optimizer == \"rmsprop\":\n",
    "        optimizer = optim.RMSprop(network.parameters(), lr=learning_rate, alpha=0.99, eps=1e-08, weight_decay=0,\n",
    "                                  momentum=0, centered=False)\n",
    "    return optimizer"
   ]
  },
  {
   "cell_type": "code",
   "execution_count": 2,
   "metadata": {},
   "outputs": [],
   "source": [
    "# choose network\n",
    "def build_network(model):\n",
    "    if model == 'Nvidia':\n",
    "        network = NetworkNvidia()\n",
    "    if model == 'ResNet18':\n",
    "        network = ResNet18()\n",
    "    if model == 'ResNet34':\n",
    "        network = ResNet34() \n",
    "    if model == 'AlexNet':\n",
    "        network = AlexNet()\n",
    "    if model == 'Vgg16':\n",
    "        network = VGG16()\n",
    "    return network\n",
    "    "
   ]
  },
  {
   "cell_type": "code",
   "execution_count": null,
   "metadata": {},
   "outputs": [],
   "source": [
    "def build_loss(loss):\n",
    "    if loss=='MSE':\n",
    "        criterion = nn.MSELoss()\n",
    "    if loss=='L1':\n",
    "        criterion = nn.L1Loss()\n",
    "    return criterion"
   ]
  },
  {
   "cell_type": "code",
   "execution_count": null,
   "metadata": {},
   "outputs": [],
   "source": [
    "def sweep_train(n_epochs, model, train_loader, criterion, optimizer, device = 'cpu', scheduler=False):\n",
    "    \n",
    "    scheduler = torch.optim.lr_scheduler.CosineAnnealingLR(optimizer, T_max = n_epochs)\n",
    "    #wandb.watch(model, loss_fn, log='all', log_freq=1000, log_graph=True)\n",
    "    print('train() called: model=%s, opt=%s(lr=%f), epochs=%d, device=%s\\n' % \\\n",
    "          (type(model).__name__, type(optimizer).__name__,\n",
    "           optimizer.param_groups[0]['lr'], n_epochs, device))\n",
    "\n",
    "    model = model.to(device)\n",
    "    total_params = sum(p.numel() for p in model.parameters())\n",
    "    wandb.log({'total_params':total_params})\n",
    "    \n",
    "    # Training Loop\n",
    "    start_time = time()\n",
    "    for epoch in range(1, n_epochs + 1):\n",
    "        epoch_start_time = time()\n",
    "        train_loss = 0\n",
    "        total_train = 0\n",
    "        # train model\n",
    "        model.train()\n",
    "        for data, target in train_loader:\n",
    "            data, target = data.to(device), target.to(device)\n",
    "            optimizer.zero_grad()\n",
    "            output = model(data)\n",
    "            loss = criterion(output, target)\n",
    "            loss.backward()\n",
    "            optimizer.step()\n",
    "            train_loss += loss.item()\n",
    "\n",
    "            total_train += target.shape[0]\n",
    "\n",
    "        if scheduler != False:\n",
    "            # update scheduler\n",
    "            scheduler.step()\n",
    "\n",
    "        # compute average loss\n",
    "        train_loss /= total_train\n",
    "        epoch_end_time = time()\n",
    "        \n",
    "        print('Epoch: {}/{} \\tTrain Loss: {:.6f} \\tEpoch Time:{:.6f}' .format(epoch, n_epochs, train_loss, epoch_end_time-epoch_start_time))\n",
    "        wandb.log({'epoch':epoch, 'train_loss':train_loss, 'time_per_epoch':epoch_end_time-epoch_start_time})  \n",
    "        \n",
    "    end_time = time()\n",
    "    wandb.log({'total_time':end_time-start_time})\n",
    "    "
   ]
  },
  {
   "cell_type": "code",
   "execution_count": null,
   "metadata": {},
   "outputs": [],
   "source": [
    "# wandb.init(project=\"self-driving-car-model\", entity=\"sudharsanananth\")"
   ]
  },
  {
   "cell_type": "code",
   "execution_count": null,
   "metadata": {},
   "outputs": [],
   "source": [
    "sweep_id = wandb.sweep(sweep_config, project=\"self-driving-car-model\", entity=\"sudharsanananth\")"
   ]
  },
  {
   "cell_type": "code",
   "execution_count": null,
   "metadata": {},
   "outputs": [],
   "source": [
    "def sweep(config=None):\n",
    "    \n",
    "    # Initialize a new wandb run\n",
    "    with wandb.init(config=config):\n",
    "        # this config will be set by sweep controller, randomly assigned each time\n",
    "        config = wandb.config\n",
    "        \n",
    "        trainloader = DataLoader(realData, batch_size=config.batch_size, shuffle=True, num_workers=8)\n",
    "        network = build_network(config.model)\n",
    "        optimizer = build_optimizer(network, config.optimizer, config.learning_rate)\n",
    "        loss = build_loss(config.loss)\n",
    "        sweep_train(config.epochs, network, trainloader, loss, optimizer, \"cuda\", config.scheduler)"
   ]
  },
  {
   "cell_type": "code",
   "execution_count": null,
   "metadata": {},
   "outputs": [],
   "source": [
    "wandb.agent(sweep_id, sweep, count=20)"
   ]
  }
 ],
 "metadata": {
  "kernelspec": {
   "display_name": "Python 3.8.13 ('jetracer_mac')",
   "language": "python",
   "name": "python3"
  },
  "language_info": {
   "codemirror_mode": {
    "name": "ipython",
    "version": 3
   },
   "file_extension": ".py",
   "mimetype": "text/x-python",
   "name": "python",
   "nbconvert_exporter": "python",
   "pygments_lexer": "ipython3",
   "version": "3.8.13"
  },
  "orig_nbformat": 4,
  "vscode": {
   "interpreter": {
    "hash": "f5f15c21e1ebeddcc58f5286ca6bf4b5f8a26a17fd8f9345bc3db33079606cab"
   }
  }
 },
 "nbformat": 4,
 "nbformat_minor": 2
}
